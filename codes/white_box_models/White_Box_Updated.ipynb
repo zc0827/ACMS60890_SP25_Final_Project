{
 "cells": [
  {
   "cell_type": "code",
   "execution_count": 1,
   "id": "ae0598d6-7c0d-4d16-806d-2ebd15bb7b68",
   "metadata": {},
   "outputs": [
    {
     "name": "stdout",
     "output_type": "stream",
     "text": [
      "\n",
      "Full-Feature White-Box Model Evaluation:\n",
      "  RMSE: 0.6105\n",
      "  MAE:  0.4727\n",
      "  R²:   0.6267\n",
      "\n",
      "Top-5-Feature White-Box Model Evaluation:\n",
      "  RMSE: 0.9131\n",
      "  MAE:  0.7366\n",
      "  R²:   0.1648\n",
      "\n",
      "Summary:\n",
      "Full-Feature Model: {'RMSE': 0.610460846091488, 'MAE': 0.47271231526774987, 'R2': 0.6266998643704618}\n",
      "Top-5-Feature Model: {'RMSE': 0.9131164142172654, 'MAE': 0.7366122742822002, 'R2': 0.1647916670759506}\n"
     ]
    }
   ],
   "source": [
    "import pandas as pd\n",
    "import numpy as np\n",
    "from sklearn.linear_model import LinearRegression\n",
    "from sklearn.metrics import mean_squared_error, mean_absolute_error, r2_score\n",
    "from sklearn.model_selection import train_test_split\n",
    "\n",
    "# -------------------- Load Dataset --------------------\n",
    "df = pd.read_csv(\"/Users/zhongyucheng/Desktop/Spring2025/ACMS60890/final_project/Python codes/UPDATED_CODES/updated_white_box/energydata_cleaned.csv\")  \n",
    "\n",
    "# -------------------- Define Features --------------------\n",
    "target = 'Appliances_log_smooth'\n",
    "features_full = [col for col in df.columns if col not in ['date', target]]\n",
    "\n",
    "# Top-5 features from correlation analysis\n",
    "features_top5 = ['T2', 'T1', 'T3', 'T8', 'T4']\n",
    "\n",
    "# -------------------- Train/Test Split --------------------\n",
    "X_full = df[features_full]\n",
    "X_top5 = df[features_top5]\n",
    "y = df[target]\n",
    "\n",
    "X_train_full, X_test_full, y_train, y_test = train_test_split(\n",
    "    X_full, y, test_size=0.2, random_state=42\n",
    ")\n",
    "X_train_top5, X_test_top5 = train_test_split(\n",
    "    X_top5, test_size=0.2, random_state=42\n",
    ")\n",
    "\n",
    "# -------------------- Train Models --------------------\n",
    "# Full-feature white-box\n",
    "model_full = LinearRegression()\n",
    "model_full.fit(X_train_full, y_train)\n",
    "y_pred_full = model_full.predict(X_test_full)\n",
    "\n",
    "# Top-5-feature white-box\n",
    "model_top5 = LinearRegression()\n",
    "model_top5.fit(X_train_top5, y_train)\n",
    "y_pred_top5 = model_top5.predict(X_test_top5)\n",
    "\n",
    "# -------------------- Evaluation Function --------------------\n",
    "def evaluate_model(y_true, y_pred, label):\n",
    "    rmse = mean_squared_error(y_true, y_pred, squared=False)\n",
    "    mae = mean_absolute_error(y_true, y_pred)\n",
    "    r2 = r2_score(y_true, y_pred)\n",
    "    print(f\"\\n{label} Evaluation:\")\n",
    "    print(f\"  RMSE: {rmse:.4f}\")\n",
    "    print(f\"  MAE:  {mae:.4f}\")\n",
    "    print(f\"  R²:   {r2:.4f}\")\n",
    "    return {\"RMSE\": rmse, \"MAE\": mae, \"R2\": r2}\n",
    "\n",
    "# -------------------- Evaluate Both Models --------------------\n",
    "results_full = evaluate_model(y_test, y_pred_full, \"Full-Feature White-Box Model\")\n",
    "results_top5 = evaluate_model(y_test, y_pred_top5, \"Top-5-Feature White-Box Model\")\n",
    "\n",
    "# -------------------- Output --------------------\n",
    "print(\"\\nSummary:\")\n",
    "print(\"Full-Feature Model:\", results_full)\n",
    "print(\"Top-5-Feature Model:\", results_top5)"
   ]
  }
 ],
 "metadata": {
  "kernelspec": {
   "display_name": "Python [conda env:base]",
   "language": "python",
   "name": "base"
  },
  "language_info": {
   "codemirror_mode": {
    "name": "ipython",
    "version": 3
   },
   "file_extension": ".py",
   "mimetype": "text/x-python",
   "name": "python",
   "nbconvert_exporter": "python",
   "pygments_lexer": "ipython3",
   "version": "3.11.5"
  }
 },
 "nbformat": 4,
 "nbformat_minor": 5
}
